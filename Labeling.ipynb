{
 "cells": [
  {
   "cell_type": "code",
   "execution_count": null,
   "metadata": {
    "collapsed": true
   },
   "outputs": [],
   "source": [
    "import pandas as pd\n",
    "import matplotlib.pyplot as plt\n",
    "import glob\n",
    "import datetime\n",
    "import os\n",
    "from IPython.display import display, Markdown\n",
    "\n",
    "%matplotlib inline"
   ]
  },
  {
   "cell_type": "code",
   "execution_count": null,
   "metadata": {
    "collapsed": true
   },
   "outputs": [],
   "source": [
    "def timestamper(timestamp):\n",
    "    return datetime.datetime.fromtimestamp(float(timestamp)/1000)"
   ]
  },
  {
   "cell_type": "markdown",
   "metadata": {},
   "source": [
    "# Label data Manually\n",
    "Read each raw and fft file, plot the ones that we doesn't know its label and wait for the user to input the label\n",
    "- *0:* Motor is offline\n",
    "- *1:* Normal behavior of the motor\n",
    "- *2:* Anomaly in the behavior (the motor is vibrating too much)"
   ]
  },
  {
   "cell_type": "code",
   "execution_count": null,
   "metadata": {
    "collapsed": true
   },
   "outputs": [],
   "source": [
    "files = glob.glob(\"data/raw/*\")"
   ]
  },
  {
   "cell_type": "code",
   "execution_count": null,
   "metadata": {
    "scrolled": false
   },
   "outputs": [],
   "source": [
    "labels = []\n",
    "datetimes = []\n",
    "\n",
    "#Read the processed.csv file if the process was started and not finished\n",
    "try:\n",
    "    processed = pd.read_csv(\"processed.csv\",index_col=0)\n",
    "except:\n",
    "    processed = pd.DataFrame(columns=[\"file\"])\n",
    "    \n",
    "    \n",
    "count = 0\n",
    "for file in files:\n",
    "    if file not in processed.file:\n",
    "        #Reading raw and fft data.\n",
    "        df = pd.read_csv(file,index_col=\"tiempo\", parse_dates=True, date_parser=timestamper)\n",
    "        df_fft = pd.read_csv(file.replace(\".csv\",\".fft.csv\").replace(\"raw\",\"fft\"),index_col=0)\n",
    "        filename = os.path.basename(file).split(\".\")\n",
    "        date = filename[2]\n",
    "        time = filename[3]\n",
    "        date_time = pd.to_datetime(date + \" \"+ time)\n",
    "        \n",
    "        # If the std of the fft data is greater than 1, the motor is functioning\n",
    "        # we need to see if the behavior is normal or not\n",
    "        if df_fft.iloc[1:].std().abs().mean() > 1:\n",
    "            print(\"filename: {}  {}/{}\".format(file,count,len(files)))\n",
    "            \n",
    "            #Plotting time and fourier plot\n",
    "            fig,ax = plt.subplots(1,2, figsize=(20,5))\n",
    "            df.plot(ax=ax[0], title=\"Time\")\n",
    "            df_fft.plot(ax=ax[1], title=\"Fourier\")\n",
    "            ax[0].set_ylim((-3,3))\n",
    "            ax[1].set_ylim((-300,300))\n",
    "\n",
    "            plt.legend()\n",
    "            plt.show()\n",
    "            \n",
    "            #Showing the Time and Fourier stats\n",
    "            stats = {}\n",
    "            stats[\"Time-mean\"] = df.mean()\n",
    "            stats[\"Time-std\"] = df.std()\n",
    "            stats[\"Fourier-mean\"] = df_fft.iloc[1:].mean()\n",
    "            stats[\"Fourier-std\"] = df_fft.iloc[1:].std()\n",
    "            stats = pd.DataFrame(stats).transpose()\n",
    "            stats[\"Mean\"] = stats.mean(axis=1)\n",
    "            display(stats)\n",
    "            \n",
    "            \n",
    "            #Asking for label\n",
    "            label = input(\"0: Off, 1:Normal, 2:Anomaly \")\n",
    "            while label not in [\"0\",\"1\",\"2\"]:\n",
    "                display(Markdown(\"**Incorrect Input**\"))\n",
    "                label = input(\"0: Off, 1:Normal, 2:Anomaly \")\n",
    "            label = int(label)\n",
    "        else:\n",
    "            #The motor if off (fft-std < 1)\n",
    "            label = 0\n",
    "    \n",
    "        count +=1\n",
    "        labels.append(label)\n",
    "        datetimes.append(date_time)\n",
    "        \n",
    "        #Adding the file to proccesed\n",
    "        processed = processed.append({\"file\":file},ignore_index=True)"
   ]
  },
  {
   "cell_type": "code",
   "execution_count": null,
   "metadata": {
    "collapsed": true,
    "scrolled": false
   },
   "outputs": [],
   "source": [
    "#If the process of labeling is not finished\n",
    "#stop the previous cell and save the labels\n",
    "processed.to_csv(\"processed.csv\")\n",
    "\n",
    "labels_df = pd.DataFrame({\n",
    "                \"time\":datetimes,\n",
    "                \"label\":labels\n",
    "            })\n",
    "try:\n",
    "    labels_old = pd.read_csv(\"data/labels.csv\")\n",
    "    labels_df = labels.concat([labels_old,labels_df])\n",
    "\n",
    "labels_df.to_csv(\"data/labels.csv\")"
   ]
  }
 ],
 "metadata": {
  "kernelspec": {
   "display_name": "Python 3",
   "language": "python",
   "name": "python3"
  },
  "language_info": {
   "codemirror_mode": {
    "name": "ipython",
    "version": 3
   },
   "file_extension": ".py",
   "mimetype": "text/x-python",
   "name": "python",
   "nbconvert_exporter": "python",
   "pygments_lexer": "ipython3",
   "version": "3.6.3"
  }
 },
 "nbformat": 4,
 "nbformat_minor": 2
}
