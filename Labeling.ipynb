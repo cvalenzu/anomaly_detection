{
 "cells": [
  {
   "cell_type": "code",
   "execution_count": null,
   "metadata": {
    "collapsed": true
   },
   "outputs": [],
   "source": [
    "import pandas as pd\n",
    "import matplotlib.pyplot as plt\n",
    "import glob\n",
    "import datetime\n",
    "from IPython.display import display, Markdown\n",
    "\n",
    "%matplotlib inline"
   ]
  },
  {
   "cell_type": "code",
   "execution_count": null,
   "metadata": {
    "collapsed": true
   },
   "outputs": [],
   "source": [
    "def timestamper(timestamp):\n",
    "    return datetime.datetime.fromtimestamp(float(timestamp)/1000)"
   ]
  },
  {
   "cell_type": "code",
   "execution_count": null,
   "metadata": {
    "collapsed": true
   },
   "outputs": [],
   "source": [
    "files = glob.glob(\"anomaly_detection/data/raw/*\")"
   ]
  },
  {
   "cell_type": "code",
   "execution_count": null,
   "metadata": {
    "scrolled": false
   },
   "outputs": [],
   "source": [
    "labels = []\n",
    "\n",
    "try:\n",
    "    processed = pd.read_csv(\"processed.csv\",index_col=0)\n",
    "except:\n",
    "    processed = pd.DataFrame(columns=[\"file\"])\n",
    "count = 0\n",
    "for file in files:\n",
    "    if file not in processed.file:\n",
    "        df = pd.read_csv(file,index_col=\"tiempo\", parse_dates=True, date_parser=timestamper)\n",
    "        df_fft = pd.read_csv(file.replace(\".csv\",\".fft.csv\").replace(\"raw\",\"fft\"),index_col=0)\n",
    "        if df_fft.mean().abs().mean() > 1:\n",
    "            print(\"filename: {}  {}/{}\".format(file,count,len(files)))\n",
    "            fig,ax = plt.subplots(1,2, figsize=(20,5))\n",
    "            df.plot(ax=ax[0], title=\"Time\")\n",
    "            df_fft.plot(ax=ax[1], title=\"Fourier\")\n",
    "            ax[0].set_ylim((-3,3))\n",
    "            ax[1].set_ylim((-300,300))\n",
    "\n",
    "            plt.legend()\n",
    "            plt.show()\n",
    "    \n",
    "            stats = {}\n",
    "            stats[\"Time-mean\"] = df.mean()\n",
    "            stats[\"Time-std\"] = df.std()\n",
    "            stats[\"Fourier-mean\"] = df_fft.iloc[1:].mean()\n",
    "            stats[\"Fourier-std\"] = df_fft.iloc[1:].std()\n",
    "            stats = pd.DataFrame(stats).transpose()\n",
    "            stats[\"Mean\"] = stats.mean(axis=1)\n",
    "            display(stats)\n",
    "\n",
    "            label = input(\"0: Off, 1:Normal, 2:Anomaly \")\n",
    "            while label not in [\"0\",\"1\",\"2\"]:\n",
    "                display(Markdown(\"**Incorrect Input**\"))\n",
    "                label = input(\"0: Off, 1:Normal, 2:Anomaly \")\n",
    "            label = int(label)\n",
    "        else:\n",
    "            label = 0\n",
    "        count +=1\n",
    "        labels.append(label)\n",
    "        processed = processed.append({\"file\":file},ignore_index=True)\n",
    "processed.to_csv(\"processed.csv\")"
   ]
  },
  {
   "cell_type": "code",
   "execution_count": null,
   "metadata": {
    "collapsed": true
   },
   "outputs": [],
   "source": []
  }
 ],
 "metadata": {
  "kernelspec": {
   "display_name": "Python 3",
   "language": "python",
   "name": "python3"
  },
  "language_info": {
   "codemirror_mode": {
    "name": "ipython",
    "version": 3
   },
   "file_extension": ".py",
   "mimetype": "text/x-python",
   "name": "python",
   "nbconvert_exporter": "python",
   "pygments_lexer": "ipython3",
   "version": "3.6.3"
  }
 },
 "nbformat": 4,
 "nbformat_minor": 2
}
