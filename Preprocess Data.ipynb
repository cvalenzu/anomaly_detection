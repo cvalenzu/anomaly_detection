{
 "cells": [
  {
   "cell_type": "code",
   "execution_count": 114,
   "metadata": {
    "collapsed": true
   },
   "outputs": [],
   "source": [
    "import glob\n",
    "import pandas as pd\n",
    "import datetime\n",
    "import numpy.fft as fft\n",
    "import matplotlib.pyplot as plt\n",
    "import os\n",
    "from IPython.display import display, HTML\n",
    "plot = False"
   ]
  },
  {
   "cell_type": "markdown",
   "metadata": {},
   "source": [
    "# Preprocessing data.\n",
    "Each file has a second of data in milliseconds (1000 measurements per file), the files aren't equally distributed in time we have big gaps between files, so we need to make some sort of preprocessing of the data before trying any anomaly detection algorithm."
   ]
  },
  {
   "cell_type": "code",
   "execution_count": 115,
   "metadata": {
    "collapsed": true
   },
   "outputs": [],
   "source": [
    "def timestamper(timestamp):\n",
    "    return datetime.datetime.fromtimestamp(float(timestamp)/1000)"
   ]
  },
  {
   "cell_type": "markdown",
   "metadata": {},
   "source": [
    "## Reading raw data"
   ]
  },
  {
   "cell_type": "code",
   "execution_count": 116,
   "metadata": {
    "collapsed": true
   },
   "outputs": [],
   "source": [
    "files = glob.glob(\"data/raw/*.csv\")"
   ]
  },
  {
   "cell_type": "markdown",
   "metadata": {},
   "source": [
    "## FFT\n",
    "Instead of using the data in the time domain we can transform it to the frequency domain and use each file as an example, then try to use clustering to identify at least 3 clusters (off, working, malfunctioning)"
   ]
  },
  {
   "cell_type": "code",
   "execution_count": 117,
   "metadata": {
    "scrolled": false
   },
   "outputs": [],
   "source": [
    "count = 0\n",
    "for i,file in enumerate(files):\n",
    "    df = pd.read_csv(file,index_col=\"tiempo\", parse_dates=True, date_parser=timestamper)\n",
    "    df_fft = {}\n",
    "    for column in df.columns:\n",
    "        df_fft[column] = fft.rfft(df[column]).real\n",
    "    df_fft = pd.DataFrame(df_fft)\n",
    "    if plot:    \n",
    "        freq_mean = df_fft.iloc[1:].abs().mean().mean()\n",
    "        freq_std = df_fft.iloc[1:].std().mean()\n",
    "\n",
    "        if  freq_mean > 1:\n",
    "            count = count + 1\n",
    "            print(\"File {}, filename: {}\".format(i+1,file))\n",
    "            \n",
    "            fig,ax = plt.subplots(1,2, figsize=(20,5))\n",
    "            df.plot(ax=ax[0], title=\"Tiempo\")\n",
    "            df_fft.plot(ax=ax[1], title=\"Fourier\")\n",
    "            plt.ylim([-300,300])\n",
    "            plt.legend()\n",
    "            plt.show()\n",
    "            if freq_std < 12:\n",
    "                display(HTML(\"<h3>State: Normal</h3>\"))\n",
    "            else:\n",
    "                display(HTML(\"<h3>State: <b style='color:red;'>Anomaly?</b> </h3>\"))\n",
    "\n",
    "\n",
    "    if not plot:\n",
    "        df_fft.to_csv(os.path.dirname(file).replace(\"raw\", \"fft/\")+os.path.basename(file).replace(\".csv\", \".fft.csv\"))\n",
    "if plot:\n",
    "    print(\"Count {}\".format(count))"
   ]
  },
  {
   "cell_type": "markdown",
   "metadata": {},
   "source": [
    "## Statistics\n",
    "We can transform each file in a set of statistical values like mean an variance, this will give us a time series"
   ]
  },
  {
   "cell_type": "code",
   "execution_count": 118,
   "metadata": {
    "collapsed": true
   },
   "outputs": [],
   "source": [
    "df_results = []\n",
    "for i,file in enumerate(files):\n",
    "    df = pd.read_csv(file,index_col=\"tiempo\", parse_dates=True, date_parser=timestamper)\n",
    "    df_stats = {}\n",
    "    for column in df.columns:\n",
    "        df_stats[column+\"-mean\"] = df[column].mean()\n",
    "        df_stats[column+\"-std\"] = df[column].std()\n",
    "        df_stats[column+\"-min\"] = df[column].min()\n",
    "        df_stats[column+\"-max\"] = df[column].min()\n",
    "        df_stats[column+\"-median\"] = df[column].median()\n",
    "        df_stats[column+\"-kurt\"] = df[column].kurt()\n",
    "        df_stats[column+\"-mad\"] = df[column].mad()\n",
    "        df_stats[column+\"-var\"] = df[column].var()\n",
    "\n",
    "    df_stats[\"time\"] = df.index[0]\n",
    "    df_results.append(df_stats)"
   ]
  },
  {
   "cell_type": "code",
   "execution_count": 119,
   "metadata": {
    "collapsed": true
   },
   "outputs": [],
   "source": [
    "df_results = pd.DataFrame(df_results)"
   ]
  },
  {
   "cell_type": "code",
   "execution_count": 120,
   "metadata": {
    "collapsed": true,
    "scrolled": false
   },
   "outputs": [],
   "source": [
    "df_results.index = df_results.time\n",
    "df_results = df_results.drop(\"time\",axis=1)"
   ]
  },
  {
   "cell_type": "code",
   "execution_count": 121,
   "metadata": {
    "collapsed": true
   },
   "outputs": [],
   "source": [
    "df_results = df_results.sort_index()"
   ]
  },
  {
   "cell_type": "code",
   "execution_count": 122,
   "metadata": {
    "collapsed": true
   },
   "outputs": [],
   "source": [
    "df_results.to_csv(\"data/vibration_statistics.csv\")"
   ]
  },
  {
   "cell_type": "markdown",
   "metadata": {},
   "source": [
    "# Cleaning gaps\n",
    "Looking into the time difference between files, we see files has a ~30 seconds gap between measurements, we need to extract the biggest segment that is continuous and get rid of the time gaps. "
   ]
  },
  {
   "cell_type": "code",
   "execution_count": 123,
   "metadata": {},
   "outputs": [
    {
     "data": {
      "image/png": "[encoded data removed]",
      "text/plain": [
       "<matplotlib.figure.Figure at 0x7f7232905a20>"
      ]
     },
     "metadata": {},
     "output_type": "display_data"
    }
   ],
   "source": [
    "%matplotlib inline\n",
    "df_results[\"X-mean\"].plot()\n",
    "plt.show()"
   ]
  },
  {
   "cell_type": "code",
   "execution_count": 124,
   "metadata": {},
   "outputs": [
    {
     "data": {
      "image/png": "[encoded data removed]",
      "text/plain": [
       "<matplotlib.figure.Figure at 0x7f7232d9d748>"
      ]
     },
     "metadata": {},
     "output_type": "display_data"
    }
   ],
   "source": [
    "df_filtered = df_results[df_results.index >= pd.to_datetime('2017-05-15 15:40')]\n",
    "df_filtered[\"X-mean\"].plot()\n",
    "plt.show()"
   ]
  },
  {
   "cell_type": "code",
   "execution_count": 125,
   "metadata": {
    "collapsed": true
   },
   "outputs": [],
   "source": [
    "df_filtered.to_csv(\"data/filtered_statistics.csv\")"
   ]
  },
  {
   "cell_type": "code",
   "execution_count": null,
   "metadata": {
    "collapsed": true
   },
   "outputs": [],
   "source": []
  }
 ],
 "metadata": {
  "kernelspec": {
   "display_name": "Python 3",
   "language": "python",
   "name": "python3"
  },
  "language_info": {
   "codemirror_mode": {
    "name": "ipython",
    "version": 3
   },
   "file_extension": ".py",
   "mimetype": "text/x-python",
   "name": "python",
   "nbconvert_exporter": "python",
   "pygments_lexer": "ipython3",
   "version": "3.6.3"
  }
 },
 "nbformat": 4,
 "nbformat_minor": 2
}
